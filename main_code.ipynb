{
  "cells": [
    {
      "cell_type": "code",
      "execution_count": 1,
      "metadata": {
        "id": "Uaq9XBCkBx6t"
      },
      "outputs": [],
      "source": [
        "# 1. Create Spark session\n",
        "from pyspark.sql import SparkSession\n",
        "spark = SparkSession.builder.appName(\"HeartDiseaseRDDProject\").getOrCreate()\n",
        "sc = spark.sparkContext"
      ]
    },
    {
      "cell_type": "code",
      "execution_count": 4,
      "metadata": {
        "id": "oZxZZ80rInOk"
      },
      "outputs": [],
      "source": [
        "# 2. Load data as RDD\n",
        "data_path = \"/content/heart_cleveland.csv\"  # adjust path if needed\n",
        "rdd = sc.textFile(data_path)"
      ]
    },
    {
      "cell_type": "code",
      "execution_count": 5,
      "metadata": {
        "id": "T1JocSNiIaC8"
      },
      "outputs": [],
      "source": [
        "# 3. Remove header row\n",
        "header = rdd.first()\n",
        "rdd_data = rdd.filter(lambda line: line != header)"
      ]
    },
    {
      "cell_type": "code",
      "execution_count": 6,
      "metadata": {
        "id": "hGpoECOHIZ_Z"
      },
      "outputs": [],
      "source": [
        "# 4. Parse lines into floats (None for “?”) and build DataFrame for EDA\n",
        "from pyspark.sql.types import StructType, StructField, DoubleType\n",
        "columns = header.split(\",\")\n",
        "\n",
        "def safe_parse(line):\n",
        "    try:\n",
        "        return [float(x) if x != \"?\" else None for x in line.split(\",\")]\n",
        "    except:\n",
        "        return None\n",
        "\n",
        "rdd_parsed = rdd_data.map(safe_parse).filter(lambda x: x is not None and len(x) == 14)\n",
        "schema = StructType([StructField(col, DoubleType(), True) for col in columns])\n",
        "df = spark.createDataFrame(rdd_parsed, schema)\n"
      ]
    },
    {
      "cell_type": "code",
      "execution_count": 7,
      "metadata": {
        "colab": {
          "base_uri": "https://localhost:8080/"
        },
        "id": "cZKDvMJgIZ9Z",
        "outputId": "bc4ebc73-cbdb-41ab-d16e-ee4bb628abf0"
      },
      "outputs": [
        {
          "output_type": "stream",
          "name": "stdout",
          "text": [
            "+----+---+---+--------+-----+---+-------+-------+-----+-------+-----+---+----+---------+\n",
            "| age|sex| cp|trestbps| chol|fbs|restecg|thalach|exang|oldpeak|slope| ca|thal|condition|\n",
            "+----+---+---+--------+-----+---+-------+-------+-----+-------+-----+---+----+---------+\n",
            "|69.0|1.0|0.0|   160.0|234.0|1.0|    2.0|  131.0|  0.0|    0.1|  1.0|1.0| 0.0|      0.0|\n",
            "|69.0|0.0|0.0|   140.0|239.0|0.0|    0.0|  151.0|  0.0|    1.8|  0.0|2.0| 0.0|      0.0|\n",
            "|66.0|0.0|0.0|   150.0|226.0|0.0|    0.0|  114.0|  0.0|    2.6|  2.0|0.0| 0.0|      0.0|\n",
            "|65.0|1.0|0.0|   138.0|282.0|1.0|    2.0|  174.0|  0.0|    1.4|  1.0|1.0| 0.0|      1.0|\n",
            "|64.0|1.0|0.0|   110.0|211.0|0.0|    2.0|  144.0|  1.0|    1.8|  1.0|0.0| 0.0|      0.0|\n",
            "+----+---+---+--------+-----+---+-------+-------+-----+-------+-----+---+----+---------+\n",
            "only showing top 5 rows\n",
            "\n"
          ]
        }
      ],
      "source": [
        "# 5. Show first 5 rows\n",
        "df.show(5)"
      ]
    },
    {
      "cell_type": "code",
      "execution_count": 8,
      "metadata": {
        "colab": {
          "base_uri": "https://localhost:8080/"
        },
        "id": "9ROErni2IZ6i",
        "outputId": "a6622e5a-8ac8-4cbe-8c4c-39fb72405fec"
      },
      "outputs": [
        {
          "output_type": "stream",
          "name": "stdout",
          "text": [
            "+-------+-----------------+-------------------+------------------+------------------+------------------+------------------+------------------+------------------+------------------+------------------+------------------+------------------+------------------+------------------+\n",
            "|summary|              age|                sex|                cp|          trestbps|              chol|               fbs|           restecg|           thalach|             exang|           oldpeak|             slope|                ca|              thal|         condition|\n",
            "+-------+-----------------+-------------------+------------------+------------------+------------------+------------------+------------------+------------------+------------------+------------------+------------------+------------------+------------------+------------------+\n",
            "|  count|              297|                297|               297|               297|               297|               297|               297|               297|               297|               297|               297|               297|               297|               297|\n",
            "|   mean|54.54208754208754| 0.6767676767676768|2.1582491582491583|131.69360269360268|247.35016835016836|0.1447811447811448|0.9966329966329966| 149.5993265993266|0.3265993265993266|1.0555555555555551|0.6026936026936027|0.6767676767676768| 0.835016835016835|0.4612794612794613|\n",
            "| stddev| 9.04973568109676|0.46849996744100153|0.9648594099420297|17.762806366598998|51.997582535138974|0.3524739341254531| 0.994913810263728|22.941562061360806|0.4697608121961863|1.1661227818468953| 0.618186769637528|0.9389645263024485|0.9566902138394462|0.4993398134940267|\n",
            "|    min|             29.0|                0.0|               0.0|              94.0|             126.0|               0.0|               0.0|              71.0|               0.0|               0.0|               0.0|               0.0|               0.0|               0.0|\n",
            "|    max|             77.0|                1.0|               3.0|             200.0|             564.0|               1.0|               2.0|             202.0|               1.0|               6.2|               2.0|               3.0|               2.0|               1.0|\n",
            "+-------+-----------------+-------------------+------------------+------------------+------------------+------------------+------------------+------------------+------------------+------------------+------------------+------------------+------------------+------------------+\n",
            "\n"
          ]
        }
      ],
      "source": [
        "# 6. Statistical summary\n",
        "df.describe().show()"
      ]
    },
    {
      "cell_type": "code",
      "execution_count": 9,
      "metadata": {
        "colab": {
          "base_uri": "https://localhost:8080/"
        },
        "id": "bXuVKNgsIHsD",
        "outputId": "02ae636c-7f82-48e9-a586-59f0e39a75c0"
      },
      "outputs": [
        {
          "output_type": "stream",
          "name": "stdout",
          "text": [
            "+--------+--------+-------+-------------+---------+--------+------------+------------+----------+------------+----------+-------+---------+--------------+\n",
            "|sum(age)|sum(sex)|sum(cp)|sum(trestbps)|sum(chol)|sum(fbs)|sum(restecg)|sum(thalach)|sum(exang)|sum(oldpeak)|sum(slope)|sum(ca)|sum(thal)|sum(condition)|\n",
            "+--------+--------+-------+-------------+---------+--------+------------+------------+----------+------------+----------+-------+---------+--------------+\n",
            "|       0|       0|      0|            0|        0|       0|           0|           0|         0|           0|         0|      0|        0|             0|\n",
            "+--------+--------+-------+-------------+---------+--------+------------+------------+----------+------------+----------+-------+---------+--------------+\n",
            "\n"
          ]
        }
      ],
      "source": [
        "# 7. Count missing values per column\n",
        "from pyspark.sql.functions import col\n",
        "df.select([col(c).isNull().cast(\"int\").alias(c) for c in df.columns]) \\\n",
        "  .groupBy().sum().show()"
      ]
    },
    {
      "cell_type": "code",
      "execution_count": 10,
      "metadata": {
        "colab": {
          "base_uri": "https://localhost:8080/"
        },
        "id": "zdwYYLa1IHog",
        "outputId": "8be01a85-d180-4759-d3fb-9d2b8cab3898"
      },
      "outputs": [
        {
          "output_type": "stream",
          "name": "stdout",
          "text": [
            "Original rows: 297, Distinct rows: 297\n"
          ]
        }
      ],
      "source": [
        "# 8. Check for duplicate rows\n",
        "distinct_count = df.distinct().count()\n",
        "original_count = df.count()\n",
        "print(f\"Original rows: {original_count}, Distinct rows: {distinct_count}\")"
      ]
    },
    {
      "cell_type": "code",
      "execution_count": 11,
      "metadata": {
        "colab": {
          "base_uri": "https://localhost:8080/",
          "height": 452
        },
        "id": "vLZ0pL5uIHmL",
        "outputId": "efd2bdfe-a453-4218-e13e-1cea166a33b3"
      },
      "outputs": [
        {
          "output_type": "display_data",
          "data": {
            "text/plain": [
              "<Figure size 640x480 with 1 Axes>"
            ],
            "image/png": "[encoded data removed]"
          },
          "metadata": {}
        }
      ],
      "source": [
        "# 9. Plot boxplot to detect outliers for 'trestbps'\n",
        "import matplotlib.pyplot as plt\n",
        "bp_data = df.select(\"trestbps\") \\\n",
        "    .rdd.flatMap(lambda x: x) \\\n",
        "    .filter(lambda x: x is not None) \\\n",
        "    .collect()\n",
        "\n",
        "plt.boxplot(bp_data)\n",
        "plt.title(\"Boxplot for Trestbps (Resting Blood Pressure)\")\n",
        "plt.ylabel(\"mm Hg\")\n",
        "plt.show()"
      ]
    },
    {
      "cell_type": "code",
      "execution_count": 12,
      "metadata": {
        "id": "M27d-hD4IHjq"
      },
      "outputs": [],
      "source": [
        "# 10. Prepare data for MLlib: remove rows with any missing values\n",
        "clean_rdd = rdd_parsed.filter(lambda row: None not in row)\n",
        "\n",
        "from pyspark.mllib.regression import LabeledPoint\n",
        "from pyspark.mllib.linalg import Vectors\n",
        "\n",
        "data_labeled = clean_rdd.map(lambda row: LabeledPoint(row[-1], Vectors.dense(row[:-1])))"
      ]
    },
    {
      "cell_type": "code",
      "execution_count": 13,
      "metadata": {
        "id": "_xfRbeRxIHg6"
      },
      "outputs": [],
      "source": [
        "# 11. Split into training and testing sets\n",
        "train_data, test_data = data_labeled.randomSplit([0.7, 0.3], seed=42)"
      ]
    },
    {
      "cell_type": "code",
      "execution_count": 14,
      "metadata": {
        "id": "m-5kJcSwH9IZ"
      },
      "outputs": [],
      "source": [
        "# 12. Train Logistic Regression model\n",
        "from pyspark.mllib.classification import LogisticRegressionWithLBFGS\n",
        "model = LogisticRegressionWithLBFGS.train(train_data)"
      ]
    },
    {
      "cell_type": "code",
      "execution_count": 15,
      "metadata": {
        "id": "6R4VMGUwH9E3"
      },
      "outputs": [],
      "source": [
        "# 13. Make predictions on test set\n",
        "predictions = test_data.map(lambda p: (p.label, model.predict(p.features)))"
      ]
    },
    {
      "cell_type": "code",
      "execution_count": 16,
      "metadata": {
        "colab": {
          "base_uri": "https://localhost:8080/"
        },
        "id": "uCz-Rdk4H9CP",
        "outputId": "26afea9e-25b2-4d62-a672-1c470a154ed3"
      },
      "outputs": [
        {
          "output_type": "stream",
          "name": "stdout",
          "text": [
            "Model accuracy: 0.84 (69/82)\n"
          ]
        }
      ],
      "source": [
        "# 14. Evaluate model accuracy\n",
        "correct = predictions.filter(lambda x: x[0] == x[1]).count()\n",
        "total = test_data.count()\n",
        "accuracy = correct / total\n",
        "print(f\"Model accuracy: {accuracy:.2f} ({correct}/{total})\")"
      ]
    },
    {
      "cell_type": "code",
      "execution_count": 19,
      "metadata": {
        "colab": {
          "base_uri": "https://localhost:8080/"
        },
        "id": "0bb902ff",
        "outputId": "b793e691-6b64-498a-8da4-80a101913c65"
      },
      "outputs": [
        {
          "output_type": "execute_result",
          "data": {
            "text/plain": [
              "['my_model.pkl']"
            ]
          },
          "metadata": {},
          "execution_count": 19
        }
      ],
      "source": [
        "import joblib\n",
        "joblib.dump(model, 'my_model.pkl')   #  Save the model"
      ]
    },
    {
      "cell_type": "code",
      "execution_count": null,
      "metadata": {
        "colab": {
          "base_uri": "https://localhost:8080/"
        },
        "id": "cGY4F4QGBxut",
        "outputId": "29188571-c449-4404-cb4a-a4b16061ee5b"
      },
      "outputs": [
        {
          "output_type": "stream",
          "name": "stdout",
          "text": [
            "Enter details for a new patient:\n"
          ]
        }
      ],
      "source": [
        "# 15. Interactive prediction for a new patient\n",
        "def get_patient_data():\n",
        "    print(\"Enter details for a new patient:\")\n",
        "    age      = float(input(\"Age: \"))\n",
        "    sex      = float(input(\"Sex (1=male, 0=female): \"))\n",
        "    cp       = float(input(\"Chest pain type (0-3): \"))\n",
        "    trestbps = float(input(\"Resting blood pressure (mm Hg): \"))\n",
        "    chol     = float(input(\"Serum cholesterol (mg/dl): \"))\n",
        "    fbs      = float(input(\"Fasting blood sugar >120 mg/dl? (1=yes, 0=no): \"))\n",
        "    restecg  = float(input(\"Resting ECG results (0-2): \"))\n",
        "    thalach  = float(input(\"Max heart rate achieved: \"))\n",
        "    exang    = float(input(\"Exercise-induced angina (1=yes, 0=no): \"))\n",
        "    oldpeak  = float(input(\"ST depression induced by exercise: \"))\n",
        "    slope    = float(input(\"Slope of peak exercise ST segment (0-2): \"))\n",
        "    ca       = float(input(\"Number of major vessels (0-3): \"))\n",
        "    thal     = float(input(\"Thalassemia (1=normal,2=fixed,3=reversible): \"))\n",
        "    return [age, sex, cp, trestbps, chol, fbs, restecg, thalach, exang, oldpeak, slope, ca, thal]\n",
        "\n",
        "new_data = get_patient_data()\n",
        "new_vector = Vectors.dense(new_data)\n",
        "prediction = model.predict(new_vector)\n",
        "\n",
        "if prediction > 0:\n",
        "    print(\"Prediction: The patient has heart disease.\")\n",
        "else:\n",
        "    print(\"Prediction: The patient does NOT have heart disease.\")"
      ]
    }
  ],
  "metadata": {
    "colab": {
      "provenance": []
    },
    "kernelspec": {
      "display_name": "Python 3",
      "name": "python3"
    },
    "language_info": {
      "name": "python"
    }
  },
  "nbformat": 4,
  "nbformat_minor": 0
}